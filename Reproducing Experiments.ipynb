{
 "cells": [
  {
   "cell_type": "code",
   "execution_count": 1,
   "metadata": {},
   "outputs": [],
   "source": [
    "# Imports as always...\n",
    "import numpy as np\n",
    "import matplotlib.pyplot as plt\n",
    "\n",
    "from sqif import CVP, solve_cvp\n",
    "\n",
    "# Ignore warnings.\n",
    "import warnings\n",
    "warnings.filterwarnings('ignore')\n",
    "\n",
    "# Beautification.\n",
    "plt.style.use('ggplot')"
   ]
  },
  {
   "cell_type": "code",
   "execution_count": 2,
   "metadata": {},
   "outputs": [],
   "source": [
    "# Instantiate an empty CVP object.\n",
    "cvp = CVP()"
   ]
  },
  {
   "cell_type": "markdown",
   "source": [
    "Let's use our implementation to experiment with reproducing the findings in Yan et al. (2023) -- the CVP part, that is/"
   ],
   "metadata": {
    "collapsed": false
   }
  },
  {
   "cell_type": "markdown",
   "metadata": {},
   "source": [
    "### 3-qubits\n",
    "\n",
    "The 11-bit integer $N=1997$ is claimed to be effectively solvable in 3 qubits."
   ]
  },
  {
   "cell_type": "code",
   "execution_count": 30,
   "metadata": {},
   "outputs": [
    {
     "name": "stdout",
     "output_type": "stream",
     "text": [
      "B = \n",
      "[  1  0  0 ]\n",
      "[  0  1  0 ]\n",
      "[  0  0  2 ]\n",
      "[ 22 35 51 ]\n",
      "\n",
      "t = \n",
      "(0, 0, 0, 240)\n",
      "\n",
      "[  3   2   4 238] with prob 0.453; distance to t: 5.745\n",
      "[  3   5   0 241] with prob 0.362; distance to t: 5.916\n",
      "[  0   4   4 242] with prob 0.137; distance to t: 6.000 [Approximate Solution]\n"
     ]
    }
   ],
   "source": [
    "# Setting up the 3-qubit problem.\n",
    "cvp.generate_cvp(N=1961, l=1, c=1.5, seed=42)\n",
    "\n",
    "print(f'B = \\n{cvp.B}\\n')\n",
    "print(f't = \\n{cvp.t}\\n')\n",
    "\n",
    "# Solve the 3-qubit CVP.\n",
    "lattice_vectors, outcome_probabilities, b_op = solve_cvp(\n",
    "    cvp, n_samples=1000, delta=.75, p=2, min_method='Nelder-Mead', verbose=False\n",
    ")\n",
    "\n",
    "# Results of the SQIF algorithm.\n",
    "for vec, prob in zip(lattice_vectors, outcome_probabilities):\n",
    "    # Compute distance to the target vector.\n",
    "    dist = np.linalg.norm(cvp.t - vec)\n",
    "\n",
    "    if np.all(vec == b_op):\n",
    "        extra = ' [Approximate Solution]'\n",
    "    else:\n",
    "        extra = ''\n",
    "\n",
    "    print(f'{vec} with prob {round(prob, 3):.3f}; distance to t: {round(dist, 3):.3f}{extra}')"
   ]
  },
  {
   "cell_type": "markdown",
   "metadata": {},
   "source": [
    "### 5 qubits\n",
    "\n",
    "The 26-bit integer $N=48567227$ is claimed to be effectively solvable in 5 qubits."
   ]
  },
  {
   "cell_type": "code",
   "execution_count": 24,
   "metadata": {},
   "outputs": [
    {
     "name": "stdout",
     "output_type": "stream",
     "text": [
      "B = \n",
      "[    1     0     0     0     0 ]\n",
      "[    0     3     0     0     0 ]\n",
      "[    0     0     2     0     0 ]\n",
      "[    0     0     0     1     0 ]\n",
      "[    0     0     0     0     2 ]\n",
      "[ 6931 10986 16094 19459 23979 ]\n",
      "\n",
      "t = \n",
      "(0, 0, 0, 0, 0, 176985)\n",
      "\n",
      "[    -6      0      0     10      2 176983] with prob 0.581; distance to t: 12.000 [Approximate Solution]\n",
      "[     8     -3     -4      6      4 176986] with prob 0.163; distance to t: 11.916\n",
      "[    -1      3      4      6      2 176976] with prob 0.106; distance to t: 12.124\n",
      "[    -8      6      4      3     10 176984] with prob 0.053; distance to t: 15.033\n"
     ]
    }
   ],
   "source": [
    "# Setting up the 5-qubit problem.\n",
    "cvp.generate_cvp(N=48567227, l=1, c=4, seed=42)\n",
    "\n",
    "print(f'B = \\n{cvp.B}\\n')\n",
    "print(f't = \\n{cvp.t}\\n')\n",
    "\n",
    "# Solve the 5-qubit CVP.\n",
    "lattice_vectors, outcome_probabilities, b_op = solve_cvp(\n",
    "    cvp, n_samples=1000, delta=.75, p=2, min_method='Nelder-Mead', verbose=False\n",
    ")\n",
    "\n",
    "# Results of the SQIF algorithm.\n",
    "for vec, prob in zip(lattice_vectors, outcome_probabilities):\n",
    "    # Compute distance to the target vector.\n",
    "    dist = np.linalg.norm(cvp.t - vec)\n",
    "\n",
    "    if np.all(vec == b_op):\n",
    "        extra = ' [Approximate Solution]'\n",
    "    else:\n",
    "        extra = ''\n",
    "\n",
    "    print(f'{vec} with prob {round(prob, 3):.3f}; distance to t: {round(dist, 3):.3f}{extra}')"
   ]
  },
  {
   "cell_type": "markdown",
   "metadata": {},
   "source": [
    "### 10 qubits\n",
    "\n",
    "The 48-bit integer $N=261980999226229$ is claimed to be effectively solvable in 10 qubits."
   ]
  },
  {
   "cell_type": "code",
   "execution_count": 23,
   "metadata": {},
   "outputs": [
    {
     "name": "stdout",
     "output_type": "stream",
     "text": [
      "B = \n",
      "[    1     0     0     0     0     0     0     0 ]\n",
      "[    0     3     0     0     0     0     0     0 ]\n",
      "[    0     0     1     0     0     0     0     0 ]\n",
      "[    0     0     0     4     0     0     0     0 ]\n",
      "[    0     0     0     0     2     0     0     0 ]\n",
      "[    0     0     0     0     0     3     0     0 ]\n",
      "[    0     0     0     0     0     0     2     0 ]\n",
      "[    0     0     0     0     0     0     0     4 ]\n",
      "[ 6931 10986 16094 19459 23979 25649 28332 29444 ]\n",
      "\n",
      "t = \n",
      "(0, 0, 0, 0, 0, 0, 0, 0, 331993)\n",
      "\n",
      "[     3      3      4      4      4      3      8      4 331993] with prob 0.091; distance to t: 12.450 [Approximate Solution]\n",
      "[     3     -3      9      8      2      0      6      4 331990] with prob 0.061; distance to t: 15.100\n",
      "[     0      3     12      4      4     -3      4      4 331990] with prob 0.054; distance to t: 15.330\n",
      "[    -4     -3      9      8      4      3      8      0 331989] with prob 0.047; distance to t: 16.583\n",
      "[    -3     -3      7      4     10      3      4      4 331990] with prob 0.044; distance to t: 15.264\n",
      "[    -4      3      4      4      6      6     10      0 331992] with prob 0.043; distance to t: 15.166\n",
      "[     3      3      9      0      6      3      2      4 331987] with prob 0.033; distance to t: 14.142\n",
      "[     0      9      7      0      6      0      6      4 331993] with prob 0.027; distance to t: 14.765\n",
      "[    -7      3     12      4      6      0      6      0 331989] with prob 0.027; distance to t: 17.493\n",
      "[    -4      0      6      4      2      9      8      4 331997] with prob 0.025; distance to t: 15.780\n",
      "[     6     -3      6      4      4      6      4      4 331987] with prob 0.023; distance to t: 14.731\n",
      "[     0      0     14      4      0      0      2      8 331995] with prob 0.022; distance to t: 16.852\n",
      "[     4     -3      7      4      8      0      2      8 331991] with prob 0.022; distance to t: 15.033\n",
      "[    -3      0     10      0      4      0      6      8 331989] with prob 0.022; distance to t: 15.524\n",
      "[    -2      0      8     -4      6      6      8      0 331994] with prob 0.021; distance to t: 14.866\n",
      "[    -7      0     14      4      2      3      4      4 331994] with prob 0.020; distance to t: 17.521\n",
      "[    -4      3      9      0      8      6      4      0 331986] with prob 0.020; distance to t: 16.462\n",
      "[    -4      0     11      0      4      9      2      4 331991] with prob 0.019; distance to t: 16.062\n",
      "[    -2     -6     13      0      4      3      6      0 331991] with prob 0.018; distance to t: 16.553\n",
      "[    -1     -3      6      4      6      9      6      0 331986] with prob 0.018; distance to t: 16.248\n",
      "[     0     -6      7      4      2      3      8      8 331989] with prob 0.018; distance to t: 16.062\n",
      "[     5     -6     13      0      2      0      4      4 331992] with prob 0.017; distance to t: 16.340\n",
      "[    -3     -6      9      4      6      6      2      8 331995] with prob 0.016; distance to t: 16.912\n",
      "[     3      0      6      4      0      6      6      8 331998] with prob 0.015; distance to t: 14.900\n",
      "[    -4     -6     11      8      0      6      6      4 331994] with prob 0.014; distance to t: 18.055\n",
      "[     0      6      9      0      2      3      4      8 331998] with prob 0.014; distance to t: 15.330\n",
      "[     3      0     11      0      2      6      0      8 331992] with prob 0.013; distance to t: 15.330\n",
      "[     6     -6      8      4      0      9      2      8 331992] with prob 0.012; distance to t: 17.378\n",
      "[     0      0      2      0      4      6     10      8 331992] with prob 0.012; distance to t: 14.866\n",
      "[     3     -6     11      8     -2      3      4      8 331995] with prob 0.011; distance to t: 18.083\n",
      "[    -1     -6      8      4      2     12      4      4 331991] with prob 0.010; distance to t: 17.349\n",
      "[     5      0      8     -4      4      3      6      4 331995] with prob 0.009; distance to t: 13.638\n",
      "[    -7      6      9      0      4      6      6      4 331997] with prob 0.009; distance to t: 16.912\n",
      "[     4      3      2      0     10      3      4      8 331994] with prob 0.009; distance to t: 14.799\n",
      "[    -3      3      2      0     12      6      6      4 331993] with prob 0.007; distance to t: 15.937\n",
      "[     1      3     10      0     10     -3      0      8 331991] with prob 0.007; distance to t: 16.941\n",
      "[    -7     -6      7      4      4      6     10      4 331988] with prob 0.007; distance to t: 18.520\n",
      "[    -6      3     10      0     12      0      2      4 331990] with prob 0.006; distance to t: 17.833\n",
      "[    -3      6      5     -4      6      3      8      8 331992] with prob 0.006; distance to t: 16.125\n",
      "[   -10      0     10      0      6      3      8      4 331988] with prob 0.006; distance to t: 18.708\n",
      "[     4     -6      9      4      4      3      0     12 331996] with prob 0.005; distance to t: 18.083\n",
      "[     6      3      1      0      6      9      6      4 331990] with prob 0.005; distance to t: 14.967\n",
      "[     3      6      6     -4      4      9      2      8 331995] with prob 0.005; distance to t: 16.310\n",
      "[    -4      6      6     -4      6     12      4      4 331994] with prob 0.005; distance to t: 17.804\n",
      "[     0      0      7     -4      6      6      4      8 331986] with prob 0.005; distance to t: 16.310\n",
      "[     2      0     16     -4      4     -3      2      4 331992] with prob 0.004; distance to t: 17.944\n",
      "[    -7      9      7      0      8      3      8      0 331992] with prob 0.004; distance to t: 17.804\n",
      "[    -3      0      4      0      8      9      4      8 331998] with prob 0.004; distance to t: 16.583\n",
      "[     1     -6     10     -4      6      9      4      0 331988] with prob 0.004; distance to t: 17.635\n"
     ]
    }
   ],
   "source": [
    "# Setting up the 10-qubit problem.\n",
    "cvp.generate_cvp(N=261980999226229, l=1, c=4, seed=42)\n",
    "\n",
    "print(f'B = \\n{cvp.B}\\n')\n",
    "print(f't = \\n{cvp.t}\\n')\n",
    "\n",
    "# Solve the 10-qubit CVP.\n",
    "lattice_vectors, outcome_probabilities, b_op = solve_cvp(\n",
    "    cvp, n_samples=1000, delta=.75, p=2, min_method='Nelder-Mead', verbose=False\n",
    ")\n",
    "\n",
    "# Results of the SQIF algorithm.\n",
    "for vec, prob in zip(lattice_vectors, outcome_probabilities):\n",
    "    # Compute distance to the target vector.\n",
    "    dist = np.linalg.norm(cvp.t - vec)\n",
    "\n",
    "    if np.all(vec == b_op):\n",
    "        extra = ' [Approximate Solution]'\n",
    "    else:\n",
    "        extra = ''\n",
    "\n",
    "    print(f'{vec} with prob {round(prob, 3):.3f}; distance to t: {round(dist, 3):.3f}{extra}')"
   ]
  }
 ],
 "metadata": {
  "kernelspec": {
   "display_name": "project-env",
   "language": "python",
   "name": "python3"
  },
  "language_info": {
   "codemirror_mode": {
    "name": "ipython",
    "version": 3
   },
   "file_extension": ".py",
   "mimetype": "text/x-python",
   "name": "python",
   "nbconvert_exporter": "python",
   "pygments_lexer": "ipython3",
   "version": "3.11.5"
  }
 },
 "nbformat": 4,
 "nbformat_minor": 2
}
