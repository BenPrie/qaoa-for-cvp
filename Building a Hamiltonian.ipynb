{
 "cells": [
  {
   "cell_type": "code",
   "execution_count": 1,
   "id": "initial_id",
   "metadata": {
    "collapsed": true,
    "is_executing": true
   },
   "outputs": [],
   "source": [
    "# Imports, as always...\n",
    "import numpy as np\n",
    "from fpylll import IntegerMatrix, LLL, GSO\n",
    "from copy import deepcopy\n",
    "import cirq"
   ]
  },
  {
   "cell_type": "code",
   "execution_count": 2,
   "id": "c0e9e10591bed9ce",
   "metadata": {
    "ExecuteTime": {
     "end_time": "2023-12-03T23:17:02.183391500Z",
     "start_time": "2023-12-03T23:17:02.174392700Z"
    },
    "collapsed": false
   },
   "outputs": [],
   "source": [
    "# Seed for random generation.\n",
    "np.random.seed(42)"
   ]
  },
  {
   "cell_type": "code",
   "execution_count": 3,
   "id": "6ee90bacfee13809",
   "metadata": {
    "ExecuteTime": {
     "end_time": "2023-12-03T23:11:55.544280100Z",
     "start_time": "2023-12-03T23:11:55.492725800Z"
    },
    "collapsed": false
   },
   "outputs": [
    {
     "name": "stdout",
     "output_type": "stream",
     "text": [
      "Integer to be factored: N = 1977 (into the factors p = 659 and q = 3).\n",
      "This has bit-length 11\n",
      "\n",
      "The claim is that we need only a lattice of dimension 3.\n"
     ]
    }
   ],
   "source": [
    "# The integer to be factored.\n",
    "p, q = 659, 3\n",
    "N = p * q\n",
    "\n",
    "# What is the bit-length of the integer?\n",
    "N_bit_length = N.bit_length()\n",
    "\n",
    "# Convert to binary (drop the '0b' prefix).\n",
    "N_binary = bin(N)[2:]\n",
    "\n",
    "print(f'Integer to be factored: N = {N} (into the factors p = {p} and q = {q}).')\n",
    "print(f'This has bit-length {N_bit_length}\\n')\n",
    "\n",
    "# The claimed lattice dimension to factor this integer is l * log N / log log N.\n",
    "l = 1\n",
    "\n",
    "n = np.log2(N)\n",
    "m = (l * n) / np.log2(n)\n",
    "\n",
    "# Round them, after the fact.\n",
    "n, m = int(np.floor(n)), int(np.floor(m))\n",
    "\n",
    "print(f'The claim is that we need only a lattice of dimension {m}.')\n",
    "\n",
    "# Here are some primes that we can use.\n",
    "primes = [2,3,5,7,11,13,17,19,23,29,31,37,41,43,47]"
   ]
  },
  {
   "cell_type": "code",
   "execution_count": 4,
   "id": "8ba2e0012f8c9264",
   "metadata": {
    "ExecuteTime": {
     "end_time": "2023-12-03T23:17:06.137979100Z",
     "start_time": "2023-12-03T23:17:06.135979700Z"
    },
    "collapsed": false
   },
   "outputs": [
    {
     "name": "stdout",
     "output_type": "stream",
     "text": [
      "B = \n",
      "[  1  0  0 ]\n",
      "[  0  1  0 ]\n",
      "[  0  0  2 ]\n",
      "[ 22 35 51 ]\n",
      "\n",
      "t = \n",
      "(0, 0, 0, 240)\n",
      "\n",
      "D (transposed) = \n",
      "[  1 -2 2  3 ]\n",
      "[ -4  1 2 -2 ]\n",
      "[ -3  2 0  4 ]\n",
      "\n",
      "Which way is each coefficient rounded?\n",
      "mu=21.666666666666668 c=22\n",
      "mu=-20.497409326424872 c=-20\n",
      "mu=33.581188433428665 c=34\n",
      "\n",
      "b_op = \n",
      "[  0   4   4 242]\n",
      "\n",
      "Hence, the residual vector is \n",
      "[0 4 4 2]\n",
      "\n",
      "This has a distance of 6.0 to the target vector.\n"
     ]
    }
   ],
   "source": [
    "# Precision parameter.\n",
    "c = 1.5\n",
    "\n",
    "# Produce the random permutation for the diagonal.\n",
    "f = np.random.permutation([(i + 1) // 2 for i in range(1, m + 1)])\n",
    "\n",
    "# Create a zero matrix and add in the diagonal permutation.\n",
    "B = np.zeros(shape=(m, m))\n",
    "np.fill_diagonal(B, f)\n",
    "\n",
    "# Create the extra final row and stick it on.\n",
    "final_row = np.round(10 ** c * np.log(np.array(primes[:m])))\n",
    "B = np.vstack((B, final_row))\n",
    "\n",
    "# fpylll doesn't like numyp arrays, so convert it to a stnadard array.\n",
    "B = [[int(b) for b in bs] for bs in B]\n",
    "\n",
    "# Convert B to a matrix of integers (in fpylll's own type).\n",
    "B = IntegerMatrix.from_matrix(B)\n",
    "print(f'B = \\n{B}')\n",
    "\n",
    "# Define the target vector.\n",
    "t = np.zeros(m + 1)\n",
    "t[-1] = np.round(10 ** c * np.log(N))\n",
    "t = tuple(t.astype(int))\n",
    "\n",
    "# And again, if t could be a bunch of integers, that would be swell.\n",
    "print(f'\\nt = \\n{t}\\n')\n",
    "\n",
    "# LLL-reduction hyperparameter (using 0.75, according to Wikipedia)\n",
    "delta = .75\n",
    "\n",
    "D = deepcopy(B).transpose()\n",
    "LLL.reduction(D, delta)\n",
    "print(f'D (transposed) = \\n{D}\\n')\n",
    "\n",
    "M = GSO.Mat(D, update=True)\n",
    "w = M.babai(t)\n",
    "\n",
    "A = IntegerMatrix(2 * D.nrows, D.ncols)\n",
    "for i in range(D.nrows):\n",
    "    for j in range(D.ncols):\n",
    "        A[i, j] = D[i, j]\n",
    "\n",
    "b = np.array(t)\n",
    "for i in reversed(range(D.nrows)):\n",
    "    for j in range(D.ncols):\n",
    "        A[i + D.nrows, j] = int(b[j])\n",
    "    b -= w[i] * np.array(D[i])\n",
    "\n",
    "print(\"Which way is each coefficient rounded?\")\n",
    "M = GSO.Mat(A, update=True)\n",
    "rounding_direction = []\n",
    "for i in range(D.nrows):\n",
    "    mu = M.get_mu(i + D.nrows, i)\n",
    "    print(f'mu={mu} c={w[i]}')\n",
    "    rounding_direction.append(w[i] > mu)\n",
    "  \n",
    "b_op = np.array(D.multiply_left(w))\n",
    "residual_vector = b_op - np.array(t)\n",
    "print(f'\\nb_op = \\n{b_op}\\n')\n",
    "print(f'Hence, the residual vector is \\n{residual_vector}\\n')\n",
    "print(f'This has a distance of {round(np.linalg.norm(residual_vector), 3)} to the target vector.')"
   ]
  },
  {
   "cell_type": "code",
   "execution_count": 5,
   "id": "23516780bc201ae2",
   "metadata": {
    "ExecuteTime": {
     "end_time": "2023-12-03T23:24:18.109792100Z",
     "start_time": "2023-12-03T23:24:18.095798300Z"
    },
    "collapsed": false
   },
   "outputs": [],
   "source": [
    "# Reformatting after this step to make subsequent steps easier.\n",
    "def integer_matrix_to_numpy(M):\n",
    "  m, n = M.nrows, M.ncols\n",
    "  D = np.zeros((m, n), dtype=int)\n",
    "  M.to_matrix(D)\n",
    "  return D\n",
    "\n",
    "B = integer_matrix_to_numpy(B)\n",
    "D = integer_matrix_to_numpy(D.transpose())\n",
    "t = np.array(t)"
   ]
  },
  {
   "cell_type": "code",
   "execution_count": 6,
   "id": "35736686cdb5886c",
   "metadata": {
    "ExecuteTime": {
     "end_time": "2023-12-03T23:20:20.543976400Z",
     "start_time": "2023-12-03T23:20:20.497956400Z"
    },
    "collapsed": false
   },
   "outputs": [
    {
     "name": "stdout",
     "output_type": "stream",
     "text": [
      "Due to the roundings, our operators will have signs:\n",
      "[-1 -1 -1]\n"
     ]
    }
   ],
   "source": [
    "# From the rounding directions, establish the signs for each operator.\n",
    "step_signs = - (np.array(rounding_direction).astype(int) * 2 - 1)\n",
    "print(f'Due to the roundings, our operators will have signs:\\n{step_signs}')"
   ]
  },
  {
   "cell_type": "code",
   "execution_count": 7,
   "id": "b2064fe159a4319e",
   "metadata": {
    "ExecuteTime": {
     "end_time": "2023-12-04T00:40:33.420358600Z",
     "start_time": "2023-12-04T00:40:33.375924300Z"
    },
    "collapsed": false
   },
   "outputs": [
    {
     "name": "stdout",
     "output_type": "stream",
     "text": [
      "H = \n",
      "43.5*I-4.0*Z(q(0))*Z(q(1))+2.5*Z(q(0))*Z(q(2))-3.5*Z(q(1))-4.0*Z(q(2))+3.0*Z(q(1))*Z(q(2))-1.5*Z(q(0))\n"
     ]
    }
   ],
   "source": [
    "# Define the circuit.\n",
    "circuit = cirq.LineQubit.range(D.shape[0])\n",
    "\n",
    "# Add the appropriate operator to each qubit.\n",
    "operators = []\n",
    "for i, sign in zip(circuit, step_signs):\n",
    "    operator = sign * ((cirq.I(i) + -cirq.Z(i)) / 2)\n",
    "    operators.append(operator)\n",
    "    \n",
    "# Define the Hamiltonian.\n",
    "H = cirq.PauliSum()\n",
    "for j in range(D.shape[0]):\n",
    "    h = residual_vector[j] \n",
    "    for i in range(D.shape[1]):\n",
    "        h += operators[i] * D[j, i]\n",
    "    H += h ** 2\n",
    "    \n",
    "print(f'H = \\n{H}')"
   ]
  },
  {
   "cell_type": "code",
   "execution_count": 8,
   "id": "90d0441e88a0f66d",
   "metadata": {
    "ExecuteTime": {
     "end_time": "2023-12-04T00:45:52.102133600Z",
     "start_time": "2023-12-04T00:45:52.047138500Z"
    },
    "collapsed": false
   },
   "outputs": [
    {
     "name": "stdout",
     "output_type": "stream",
     "text": [
      "43.500 * I\n",
      "-4.000 * Z(q(0)) * Z(q(1))\n",
      "+2.500 * Z(q(0)) * Z(q(2))\n",
      "-3.500 * Z(q(1))\n",
      "-4.000 * Z(q(2))\n",
      "+3.000 * Z(q(1)) * Z(q(2))\n",
      "-1.500 * Z(q(0))\n"
     ]
    }
   ],
   "source": [
    "# Pretty printing the Hamiltonian.\n",
    "string_H = str(H)\n",
    "string_H = string_H.replace('+', '\\n+')\n",
    "string_H = string_H.replace('-', '\\n-')\n",
    "string_H = string_H.replace('*', ' * ')\n",
    "print(string_H)"
   ]
  }
 ],
 "metadata": {
  "kernelspec": {
   "display_name": "Python 3",
   "language": "python",
   "name": "python3"
  },
  "language_info": {
   "codemirror_mode": {
    "name": "ipython",
    "version": 3
   },
   "file_extension": ".py",
   "mimetype": "text/x-python",
   "name": "python",
   "nbconvert_exporter": "python",
   "pygments_lexer": "ipython3",
   "version": "3.11.5"
  }
 },
 "nbformat": 4,
 "nbformat_minor": 5
}
