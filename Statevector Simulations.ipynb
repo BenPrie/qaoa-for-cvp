{
 "cells": [
  {
   "cell_type": "code",
   "execution_count": 24,
   "id": "initial_id",
   "metadata": {
    "collapsed": true,
    "ExecuteTime": {
     "end_time": "2025-09-22T18:15:43.888063600Z",
     "start_time": "2025-09-22T18:15:43.830063300Z"
    }
   },
   "outputs": [],
   "source": [
    "# Imports, as always...\n",
    "import time\n",
    "\n",
    "from collections import Counter\n",
    "\n",
    "import cirq\n",
    "import qsimcirq\n",
    "import sympy\n",
    "import numpy as np\n",
    "from math import log, log2\n",
    "import matplotlib.pyplot as plt \n",
    "import seaborn as sns\n",
    "import pandas as pd\n",
    "import pickle\n",
    "\n",
    "# For generating prime numbers.\n",
    "from Crypto.Util import number\n",
    "\n",
    "# Notebook progress bars.\n",
    "from tqdm.notebook import tqdm\n",
    "\n",
    "# Scrit imports.\n",
    "import sqif\n",
    "\n",
    "# Ignoring warnings.\n",
    "import warnings\n",
    "warnings.filterwarnings('ignore')\n",
    "\n",
    "# Additional imports.\n",
    "from scipy.optimize import curve_fit, least_squares\n",
    "\n",
    "# Scaling to fit to.\n",
    "def scaling_function(x, alpha):\n",
    "    return 1 / (2 ** (alpha * x))\n",
    "\n",
    "# Styling for plots.\n",
    "#plt.style.use('ggplot')\n",
    "palette = 'deep'\n",
    "sns.set_theme(style='darkgrid', palette=palette)"
   ]
  },
  {
   "cell_type": "code",
   "execution_count": 2,
   "outputs": [],
   "source": [
    "# Optimal parameters for p=10.\n",
    "with open(f'./results/pre-train-parameter-assignments/p={10}.pkl', 'rb') as file:\n",
    "    loaded_param_dict = pickle.load(file)\n",
    "    \n",
    "params = cirq.ParamResolver(loaded_param_dict)"
   ],
   "metadata": {
    "collapsed": false,
    "ExecuteTime": {
     "end_time": "2025-09-22T18:04:44.771424700Z",
     "start_time": "2025-09-22T18:04:44.762293800Z"
    }
   },
   "id": "1547cbe82c16bad5"
  },
  {
   "cell_type": "code",
   "execution_count": 3,
   "outputs": [],
   "source": [
    "# Generate a CVP instance.\n",
    "n_bits = 16\n",
    "cvp = sqif.CVP()\n",
    "cvp.generate_cvp(N=number.getPrime(n_bits), l=1, c=3)\n",
    "\n",
    "# Classical approx.\n",
    "D, w, b_op, residual_vector, step_signs = sqif.find_b_op(cvp.B, cvp.t, delta=.75)\n",
    "\n",
    "# Hamiltonian for refinement.\n",
    "H = sqif.define_hamiltonian(D, residual_vector, step_signs)\n",
    "\n",
    "# Build circuit.\n",
    "circuit = sqif.generate_qaoa_circuit(H, p=10)"
   ],
   "metadata": {
    "collapsed": false,
    "ExecuteTime": {
     "end_time": "2025-09-22T18:04:46.515506200Z",
     "start_time": "2025-09-22T18:04:46.424813400Z"
    }
   },
   "id": "20272293a6815626"
  },
  {
   "cell_type": "code",
   "execution_count": 10,
   "outputs": [
    {
     "name": "stdout",
     "output_type": "stream",
     "text": [
      "Runtime: 0.135s\n"
     ]
    },
    {
     "data": {
      "text/plain": "Counter({0: 8595,\n         1: 337,\n         2: 90,\n         3: 252,\n         4: 64,\n         5: 128,\n         6: 112,\n         7: 37,\n         8: 164,\n         9: 99,\n         10: 18,\n         11: 4,\n         12: 69,\n         13: 29,\n         15: 2})"
     },
     "execution_count": 10,
     "metadata": {},
     "output_type": "execute_result"
    }
   ],
   "source": [
    "# Old (`run`) method of simulation...\n",
    "\n",
    "# Time keeping.\n",
    "start = time.time()\n",
    "\n",
    "# Simulator object.\n",
    "simulator = qsimcirq.QSimSimulator(\n",
    "    qsimcirq.QSimOptions(cpu_threads=8, verbosity=0)\n",
    ")\n",
    "\n",
    "# Add measurements.\n",
    "measurement_circuit = circuit + cirq.Circuit(cirq.measure(H.qubits, key='m'))\n",
    "\n",
    "# Run.\n",
    "result = simulator.run(measurement_circuit, param_resolver=params, repetitions=10000)\n",
    "\n",
    "# Get histogram.\n",
    "hist = result.histogram(key='m')\n",
    "\n",
    "# Time keeping.\n",
    "print(f'Runtime: {round(time.time() - start, 3)}s')\n",
    "\n",
    "hist"
   ],
   "metadata": {
    "collapsed": false,
    "ExecuteTime": {
     "end_time": "2025-09-22T18:09:02.559287200Z",
     "start_time": "2025-09-22T18:09:02.433374500Z"
    }
   },
   "id": "1af8095bdc7cff61"
  },
  {
   "cell_type": "code",
   "execution_count": 26,
   "outputs": [
    {
     "name": "stdout",
     "output_type": "stream",
     "text": [
      "Runtime: 0.063s\n"
     ]
    },
    {
     "data": {
      "text/plain": "{0: 0.8622978739214346,\n 1: 0.03559291449666824,\n 2: 0.010270425985767995,\n 3: 0.026107271782614072,\n 4: 0.006975234909514294,\n 5: 0.010490561960772249,\n 6: 0.010246533029640903,\n 7: 0.0022873999949269003,\n 8: 0.014058260069295392,\n 9: 0.008928709122910716,\n 10: 0.0016171497881925512,\n 11: 0.00024804490629487877,\n 12: 0.007651628282980605,\n 13: 0.0028751842403679367,\n 14: 5.765566907681868e-05,\n 15: 0.0002942640854621814}"
     },
     "execution_count": 26,
     "metadata": {},
     "output_type": "execute_result"
    }
   ],
   "source": [
    "# New (`simulate`) method of simulation...\n",
    "\n",
    "# Time keeping.\n",
    "start = time.time()\n",
    "\n",
    "# Simulator object.\n",
    "simulator = cirq.Simulator()\n",
    "\n",
    "# Run.\n",
    "state_vector = simulator.simulate(circuit, param_resolver=params).final_state_vector\n",
    "\n",
    "# Compute probabilities\n",
    "probs = {i: abs(ampl)**2 for i, ampl in enumerate(state_vector)}\n",
    "\n",
    "# Time keeping.\n",
    "print(f'Runtime: {round(time.time() - start, 3)}s')\n",
    "\n",
    "probs"
   ],
   "metadata": {
    "collapsed": false,
    "ExecuteTime": {
     "end_time": "2025-09-22T18:18:24.036747900Z",
     "start_time": "2025-09-22T18:18:23.920025700Z"
    }
   },
   "id": "bd2dd6bd54f1cb07"
  },
  {
   "cell_type": "code",
   "execution_count": 30,
   "outputs": [],
   "source": [
    "# Get lattice vectors.\n",
    "lattice_vectors = sqif.integer_outcomes_to_lattice_vectors(cvp.m, np.arange(2**cirq.num_qubits(circuit)), w, D, step_signs)"
   ],
   "metadata": {
    "collapsed": false,
    "ExecuteTime": {
     "end_time": "2025-09-22T18:29:04.637181600Z",
     "start_time": "2025-09-22T18:29:04.628664200Z"
    }
   },
   "id": "b5540f8c3895020e"
  },
  {
   "cell_type": "code",
   "execution_count": 32,
   "outputs": [
    {
     "data": {
      "text/plain": "array([[    0,     4,     6,     4, 15744],\n       [    5,    -4,     9,     0, 15748],\n       [    5,     6,     8,    -4, 15742],\n       [   10,    -2,    11,    -8, 15746],\n       [    6,     4,     1,     8, 15749],\n       [   11,    -4,     4,     4, 15753],\n       [   11,     6,     3,     0, 15747],\n       [   16,    -2,     6,    -4, 15751],\n       [    5,     0,     4,     6, 15739],\n       [   10,    -8,     7,     2, 15743],\n       [   10,     2,     6,    -2, 15737],\n       [   15,    -6,     9,    -6, 15741],\n       [   11,     0,    -1,    10, 15744],\n       [   16,    -8,     2,     6, 15748],\n       [   16,     2,     1,     2, 15742],\n       [   21,    -6,     4,    -2, 15746]])"
     },
     "metadata": {},
     "output_type": "display_data"
    },
    {
     "data": {
      "text/plain": "array([8.62297874e-01, 3.55929145e-02, 1.02704260e-02, 2.61072718e-02,\n       6.97523491e-03, 1.04905620e-02, 1.02465330e-02, 2.28739999e-03,\n       1.40582601e-02, 8.92870912e-03, 1.61714979e-03, 2.48044906e-04,\n       7.65162828e-03, 2.87518424e-03, 5.76556691e-05, 2.94264085e-04])"
     },
     "metadata": {},
     "output_type": "display_data"
    },
    {
     "data": {
      "text/plain": "array([    0,     4,     6,     4, 15744])"
     },
     "metadata": {},
     "output_type": "display_data"
    }
   ],
   "source": [
    "# Final solutions objects.\n",
    "display(lattice_vectors)\n",
    "display(np.array(list(probs.values())))\n",
    "display(b_op)"
   ],
   "metadata": {
    "collapsed": false,
    "ExecuteTime": {
     "end_time": "2025-09-22T18:30:11.239006300Z",
     "start_time": "2025-09-22T18:30:11.187035700Z"
    }
   },
   "id": "2b4f24beb750d2f4"
  },
  {
   "cell_type": "code",
   "execution_count": 37,
   "outputs": [],
   "source": [
    "# Bungle into a function.\n",
    "def state_vector_solve_cvp(cvp, p, params, delta=.75):\n",
    "    # Classical approx.\n",
    "    D, w, b_op, residual_vector, step_signs = sqif.find_b_op(cvp.B, cvp.t, delta=delta)\n",
    "    \n",
    "    # Hamiltonian for refinement.\n",
    "    H = sqif.define_hamiltonian(D, residual_vector, step_signs)\n",
    "    \n",
    "    # Build circuit.\n",
    "    circuit = sqif.generate_qaoa_circuit(H, p=p)\n",
    "    \n",
    "    # Simulator object.\n",
    "    simulator = cirq.Simulator()\n",
    "    \n",
    "    # Run.\n",
    "    state_vector = simulator.simulate(circuit, param_resolver=params).final_state_vector\n",
    "    \n",
    "    # Compute probabilities\n",
    "    probs = {i: abs(ampl)**2 for i, ampl in enumerate(state_vector)}\n",
    "    \n",
    "    # Get lattice vectors.\n",
    "    lattice_vectors = sqif.integer_outcomes_to_lattice_vectors(cvp.m, np.arange(2**cirq.num_qubits(circuit)), w, D, step_signs)\n",
    "    \n",
    "    return lattice_vectors, np.array(list(probs.values())), b_op"
   ],
   "metadata": {
    "collapsed": false,
    "ExecuteTime": {
     "end_time": "2025-09-22T18:37:41.525552300Z",
     "start_time": "2025-09-22T18:37:41.466728900Z"
    }
   },
   "id": "df59ad682fe07533"
  },
  {
   "cell_type": "code",
   "execution_count": 42,
   "outputs": [
    {
     "data": {
      "text/plain": "  0%|          | 0/10 [00:00<?, ?it/s]",
      "application/vnd.jupyter.widget-view+json": {
       "version_major": 2,
       "version_minor": 0,
       "model_id": "3d51de71898845a09d4b94320784e316"
      }
     },
     "metadata": {},
     "output_type": "display_data"
    },
    {
     "data": {
      "text/plain": "<matplotlib.legend.Legend at 0x7ffaf14349a0>"
     },
     "execution_count": 42,
     "metadata": {},
     "output_type": "execute_result"
    },
    {
     "data": {
      "text/plain": "<Figure size 400x300 with 1 Axes>",
      "image/png": "[encoded data removed]"
     },
     "metadata": {},
     "output_type": "display_data"
    }
   ],
   "source": [
    "# Runtime comparison.\n",
    "\n",
    "new_times = []\n",
    "old_times = []\n",
    "\n",
    "ps = list(range(1, 11))\n",
    "\n",
    "for p in tqdm(ps):\n",
    "    with open(f'./results/pre-train-parameter-assignments/p={p}.pkl', 'rb') as file:\n",
    "        loaded_param_dict = pickle.load(file)\n",
    "        \n",
    "    params = cirq.ParamResolver(loaded_param_dict)\n",
    "    \n",
    "    tic = time.perf_counter()\n",
    "    for n_bits in range(16, 65):\n",
    "        cvp = sqif.CVP()\n",
    "        cvp.generate_cvp(N=number.getPrime(n_bits), l=1, c=3)\n",
    "        _ = state_vector_solve_cvp(cvp, p, params)\n",
    "    toc = time.perf_counter()\n",
    "    \n",
    "    new_times.append(toc - tic)\n",
    "    \n",
    "    tic = time.perf_counter()\n",
    "    for n_bits in range(16, 65):\n",
    "        cvp = sqif.CVP()\n",
    "        cvp.generate_cvp(N=number.getPrime(n_bits), l=1, c=3)\n",
    "        _ = sqif.solve_cvp(cvp, n_samples=10000, p=p, optimal_parameters=params, verbose=False)\n",
    "    toc = time.perf_counter()\n",
    "    \n",
    "    old_times.append(toc - tic)\n",
    "    \n",
    "_, ax = plt.subplots(1, 1, figsize=(4, 3))\n",
    "ax.plot(ps, new_times, label='new')\n",
    "ax.plot(ps, old_times, label='old')\n",
    "\n",
    "ax.set_xlabel('p')\n",
    "ax.set_ylabel('runtime (s)')\n",
    "ax.legend()"
   ],
   "metadata": {
    "collapsed": false,
    "ExecuteTime": {
     "end_time": "2025-09-22T18:48:56.271956100Z",
     "start_time": "2025-09-22T18:46:32.431238200Z"
    }
   },
   "id": "36c2aa54c4342176"
  },
  {
   "cell_type": "code",
   "execution_count": 46,
   "outputs": [
    {
     "data": {
      "text/plain": "  0%|          | 0/97 [00:00<?, ?it/s]",
      "application/vnd.jupyter.widget-view+json": {
       "version_major": 2,
       "version_minor": 0,
       "model_id": "5d5763a016344d4f8d98711e9f8cd23e"
      }
     },
     "metadata": {},
     "output_type": "display_data"
    },
    {
     "data": {
      "text/plain": "<matplotlib.legend.Legend at 0x7ffaf1769070>"
     },
     "execution_count": 46,
     "metadata": {},
     "output_type": "execute_result"
    },
    {
     "data": {
      "text/plain": "<Figure size 400x300 with 1 Axes>",
      "image/png": "[encoded data removed]"
     },
     "metadata": {},
     "output_type": "display_data"
    }
   ],
   "source": [
    "# Runtime comparison.\n",
    "\n",
    "new_times = []\n",
    "old_times = []\n",
    "\n",
    "with open(f'./results/pre-train-parameter-assignments/p={10}.pkl', 'rb') as file:\n",
    "    loaded_param_dict = pickle.load(file)\n",
    "    \n",
    "params = cirq.ParamResolver(loaded_param_dict)\n",
    "    \n",
    "bit_lengths = list(range(32, 129))\n",
    "for n_bits in tqdm(bit_lengths):\n",
    "    \n",
    "    cvp = sqif.CVP()\n",
    "    cvp.generate_cvp(N=number.getPrime(n_bits), l=1, c=3)\n",
    "\n",
    "    tic = time.perf_counter()\n",
    "    _ = state_vector_solve_cvp(cvp, 10, params)\n",
    "    toc = time.perf_counter()\n",
    "    \n",
    "    new_times.append(toc - tic)\n",
    "    \n",
    "    tic = time.perf_counter()\n",
    "    _ = sqif.solve_cvp(cvp, n_samples=10000, p=10, optimal_parameters=params, verbose=False)\n",
    "    toc = time.perf_counter()\n",
    "    \n",
    "    old_times.append(toc - tic)\n",
    "    \n",
    "_, ax = plt.subplots(1, 1, figsize=(4, 3))\n",
    "ax.plot(bit_lengths, new_times, label='new')\n",
    "ax.plot(bit_lengths, old_times, label='old')\n",
    "\n",
    "ax.set_xlabel('m')\n",
    "ax.set_ylabel('runtime (s)')\n",
    "ax.legend()"
   ],
   "metadata": {
    "collapsed": false,
    "ExecuteTime": {
     "end_time": "2025-09-22T18:55:42.882759600Z",
     "start_time": "2025-09-22T18:53:36.008767300Z"
    }
   },
   "id": "c488e568449d0f8b"
  }
 ],
 "metadata": {
  "kernelspec": {
   "display_name": "Python 3",
   "language": "python",
   "name": "python3"
  },
  "language_info": {
   "codemirror_mode": {
    "name": "ipython",
    "version": 2
   },
   "file_extension": ".py",
   "mimetype": "text/x-python",
   "name": "python",
   "nbconvert_exporter": "python",
   "pygments_lexer": "ipython2",
   "version": "2.7.6"
  }
 },
 "nbformat": 4,
 "nbformat_minor": 5
}
